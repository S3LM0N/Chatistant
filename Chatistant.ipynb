{
 "cells": [
  {
   "cell_type": "markdown",
   "metadata": {},
   "source": [
    "Aiden Main Program\n",
    "=============\n"
   ]
  },
  {
   "cell_type": "code",
   "execution_count": 1,
   "metadata": {},
   "outputs": [],
   "source": [
    "from Data import Fnc\n",
    "\n",
    "Bot_Name = \"Aiden\""
   ]
  },
  {
   "cell_type": "code",
   "execution_count": 2,
   "metadata": {},
   "outputs": [],
   "source": [
    "#Fnc.TTS(\"안녕하세요. \"+Bot_Name+\" 입니다.\", 'ko')"
   ]
  },
  {
   "cell_type": "code",
   "execution_count": null,
   "metadata": {},
   "outputs": [],
   "source": [
    "while True:\n",
    "    PERSONALDATA        = Fnc.LPD('Data/PersonalData.csv')\n",
    "    TEXT_INPUT_RAW      = Fnc.STT('ko-KR')\n",
    "    TEXT_INPUT_KoNLpy   = Fnc.KoNLpy(TEXT_INPUT_RAW)\n",
    "    \n",
    "    TEXT_OUTPUT = Fnc.RULE(TEXT_INPUT_KoNLpy, PERSONALDATA)\n",
    "\n",
    "    #if TEXT_OUTPUT == False : TEXT_OUTPUT = Fnc.TRANSFORMER(TEXT_INPUT_RAW)\n",
    "\n",
    "        \n",
    "    print(TEXT_INPUT_KoNLpy)\n",
    "    print(TEXT_OUTPUT)\n",
    "    Fnc.TTS(TEXT_OUTPUT, 'ko')"
   ]
  }
 ],
 "metadata": {
  "interpreter": {
   "hash": "96eb50e1d44aed467dc8f759cb08c32fbfa9babcf79c554e2d0e5feb04653a10"
  },
  "kernelspec": {
   "display_name": "Python 3.7.11 ('base')",
   "language": "python",
   "name": "python3"
  },
  "language_info": {
   "codemirror_mode": {
    "name": "ipython",
    "version": 3
   },
   "file_extension": ".py",
   "mimetype": "text/x-python",
   "name": "python",
   "nbconvert_exporter": "python",
   "pygments_lexer": "ipython3",
   "version": "3.7.11"
  },
  "orig_nbformat": 4
 },
 "nbformat": 4,
 "nbformat_minor": 2
}
